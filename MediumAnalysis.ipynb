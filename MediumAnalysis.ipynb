{
 "cells": [
  {
   "cell_type": "markdown",
   "metadata": {},
   "source": [
    "## Introduction\n",
    "\n",
    "As the data file included the cover photo, resulting in a 1GB file size. I downloaded the file, unzipped to the working directory named 'medium_data.csv'. The images will be used for another image analysis.\n",
    "\n",
    "Research Questions:\n",
    "1. Data Science vs Other domain\n",
    "2. Does The number of Images matter?  \n",
    "3. Does Article with Coding Example has better audience?  \n",
    "4. What are the top viewed topics in Toward Data Science?  \n",
    "5. Now that we have these information, compare the income indicator of doing all best possible actions vs doing all worse possible actions vs a median writer (who do things on average level)\n",
    "\n",
    "---\n",
    "---\n",
    "\n",
    "## Coding\n",
    "### Preparation"
   ]
  },
  {
   "cell_type": "code",
   "execution_count": 1,
   "metadata": {},
   "outputs": [],
   "source": [
    "import pandas as pd\n",
    "import numpy as np\n",
    "from bs4 import BeautifulSoup\n",
    "from urllib.request import urlopen, Request\n",
    "import matplotlib.pyplot as plt; plt.rcdefaults()\n",
    "import numpy as np\n",
    "import matplotlib.pyplot as plt"
   ]
  },
  {
   "cell_type": "code",
   "execution_count": 2,
   "metadata": {},
   "outputs": [
    {
     "data": {
      "text/html": [
       "<div>\n",
       "<style scoped>\n",
       "    .dataframe tbody tr th:only-of-type {\n",
       "        vertical-align: middle;\n",
       "    }\n",
       "\n",
       "    .dataframe tbody tr th {\n",
       "        vertical-align: top;\n",
       "    }\n",
       "\n",
       "    .dataframe thead th {\n",
       "        text-align: right;\n",
       "    }\n",
       "</style>\n",
       "<table border=\"1\" class=\"dataframe\">\n",
       "  <thead>\n",
       "    <tr style=\"text-align: right;\">\n",
       "      <th></th>\n",
       "      <th>id</th>\n",
       "      <th>claps</th>\n",
       "      <th>reading_time</th>\n",
       "    </tr>\n",
       "  </thead>\n",
       "  <tbody>\n",
       "    <tr>\n",
       "      <th>count</th>\n",
       "      <td>6508.000000</td>\n",
       "      <td>6508.000000</td>\n",
       "      <td>6508.000000</td>\n",
       "    </tr>\n",
       "    <tr>\n",
       "      <th>mean</th>\n",
       "      <td>3254.500000</td>\n",
       "      <td>311.076060</td>\n",
       "      <td>6.134911</td>\n",
       "    </tr>\n",
       "    <tr>\n",
       "      <th>std</th>\n",
       "      <td>1878.842108</td>\n",
       "      <td>950.789896</td>\n",
       "      <td>3.231918</td>\n",
       "    </tr>\n",
       "    <tr>\n",
       "      <th>min</th>\n",
       "      <td>1.000000</td>\n",
       "      <td>0.000000</td>\n",
       "      <td>0.000000</td>\n",
       "    </tr>\n",
       "    <tr>\n",
       "      <th>25%</th>\n",
       "      <td>1627.750000</td>\n",
       "      <td>54.000000</td>\n",
       "      <td>4.000000</td>\n",
       "    </tr>\n",
       "    <tr>\n",
       "      <th>50%</th>\n",
       "      <td>3254.500000</td>\n",
       "      <td>115.000000</td>\n",
       "      <td>5.000000</td>\n",
       "    </tr>\n",
       "    <tr>\n",
       "      <th>75%</th>\n",
       "      <td>4881.250000</td>\n",
       "      <td>268.250000</td>\n",
       "      <td>7.000000</td>\n",
       "    </tr>\n",
       "    <tr>\n",
       "      <th>max</th>\n",
       "      <td>6508.000000</td>\n",
       "      <td>38000.000000</td>\n",
       "      <td>55.000000</td>\n",
       "    </tr>\n",
       "  </tbody>\n",
       "</table>\n",
       "</div>"
      ],
      "text/plain": [
       "                id         claps  reading_time\n",
       "count  6508.000000   6508.000000   6508.000000\n",
       "mean   3254.500000    311.076060      6.134911\n",
       "std    1878.842108    950.789896      3.231918\n",
       "min       1.000000      0.000000      0.000000\n",
       "25%    1627.750000     54.000000      4.000000\n",
       "50%    3254.500000    115.000000      5.000000\n",
       "75%    4881.250000    268.250000      7.000000\n",
       "max    6508.000000  38000.000000     55.000000"
      ]
     },
     "execution_count": 2,
     "metadata": {},
     "output_type": "execute_result"
    }
   ],
   "source": [
    "dat = pd.read_csv('medium_data.csv')\n",
    "dat.describe()"
   ]
  },
  {
   "cell_type": "code",
   "execution_count": 3,
   "metadata": {},
   "outputs": [
    {
     "data": {
      "text/plain": [
       "(6508, 10)"
      ]
     },
     "execution_count": 3,
     "metadata": {},
     "output_type": "execute_result"
    }
   ],
   "source": [
    "dat.shape"
   ]
  },
  {
   "cell_type": "code",
   "execution_count": 4,
   "metadata": {},
   "outputs": [
    {
     "data": {
      "text/html": [
       "<div>\n",
       "<style scoped>\n",
       "    .dataframe tbody tr th:only-of-type {\n",
       "        vertical-align: middle;\n",
       "    }\n",
       "\n",
       "    .dataframe tbody tr th {\n",
       "        vertical-align: top;\n",
       "    }\n",
       "\n",
       "    .dataframe thead th {\n",
       "        text-align: right;\n",
       "    }\n",
       "</style>\n",
       "<table border=\"1\" class=\"dataframe\">\n",
       "  <thead>\n",
       "    <tr style=\"text-align: right;\">\n",
       "      <th></th>\n",
       "      <th>url</th>\n",
       "      <th>title</th>\n",
       "      <th>subtitle</th>\n",
       "      <th>image</th>\n",
       "      <th>claps</th>\n",
       "      <th>responses</th>\n",
       "      <th>reading_time</th>\n",
       "      <th>publication</th>\n",
       "      <th>date</th>\n",
       "    </tr>\n",
       "  </thead>\n",
       "  <tbody>\n",
       "    <tr>\n",
       "      <th>0</th>\n",
       "      <td>https://towardsdatascience.com/a-beginners-gui...</td>\n",
       "      <td>A Beginner’s Guide to Word Embedding with Gens...</td>\n",
       "      <td>NaN</td>\n",
       "      <td>1.png</td>\n",
       "      <td>850</td>\n",
       "      <td>8</td>\n",
       "      <td>8</td>\n",
       "      <td>Towards Data Science</td>\n",
       "      <td>2019-05-30</td>\n",
       "    </tr>\n",
       "    <tr>\n",
       "      <th>1</th>\n",
       "      <td>https://towardsdatascience.com/hands-on-graph-...</td>\n",
       "      <td>Hands-on Graph Neural Networks with PyTorch &amp; ...</td>\n",
       "      <td>NaN</td>\n",
       "      <td>2.png</td>\n",
       "      <td>1100</td>\n",
       "      <td>11</td>\n",
       "      <td>9</td>\n",
       "      <td>Towards Data Science</td>\n",
       "      <td>2019-05-30</td>\n",
       "    </tr>\n",
       "    <tr>\n",
       "      <th>2</th>\n",
       "      <td>https://towardsdatascience.com/how-to-use-ggpl...</td>\n",
       "      <td>How to Use ggplot2 in Python</td>\n",
       "      <td>A Grammar of Graphics for Python</td>\n",
       "      <td>3.png</td>\n",
       "      <td>767</td>\n",
       "      <td>1</td>\n",
       "      <td>5</td>\n",
       "      <td>Towards Data Science</td>\n",
       "      <td>2019-05-30</td>\n",
       "    </tr>\n",
       "    <tr>\n",
       "      <th>3</th>\n",
       "      <td>https://towardsdatascience.com/databricks-how-...</td>\n",
       "      <td>Databricks: How to Save Files in CSV on Your L...</td>\n",
       "      <td>When I work on Python projects dealing…</td>\n",
       "      <td>4.jpeg</td>\n",
       "      <td>354</td>\n",
       "      <td>0</td>\n",
       "      <td>4</td>\n",
       "      <td>Towards Data Science</td>\n",
       "      <td>2019-05-30</td>\n",
       "    </tr>\n",
       "  </tbody>\n",
       "</table>\n",
       "</div>"
      ],
      "text/plain": [
       "                                                 url  \\\n",
       "0  https://towardsdatascience.com/a-beginners-gui...   \n",
       "1  https://towardsdatascience.com/hands-on-graph-...   \n",
       "2  https://towardsdatascience.com/how-to-use-ggpl...   \n",
       "3  https://towardsdatascience.com/databricks-how-...   \n",
       "\n",
       "                                               title  \\\n",
       "0  A Beginner’s Guide to Word Embedding with Gens...   \n",
       "1  Hands-on Graph Neural Networks with PyTorch & ...   \n",
       "2                       How to Use ggplot2 in Python   \n",
       "3  Databricks: How to Save Files in CSV on Your L...   \n",
       "\n",
       "                                  subtitle   image  claps responses  \\\n",
       "0                                      NaN   1.png    850         8   \n",
       "1                                      NaN   2.png   1100        11   \n",
       "2         A Grammar of Graphics for Python   3.png    767         1   \n",
       "3  When I work on Python projects dealing…  4.jpeg    354         0   \n",
       "\n",
       "   reading_time           publication        date  \n",
       "0             8  Towards Data Science  2019-05-30  \n",
       "1             9  Towards Data Science  2019-05-30  \n",
       "2             5  Towards Data Science  2019-05-30  \n",
       "3             4  Towards Data Science  2019-05-30  "
      ]
     },
     "execution_count": 4,
     "metadata": {},
     "output_type": "execute_result"
    }
   ],
   "source": [
    "dat = dat.iloc[:,1:]\n",
    "dat.head(4)"
   ]
  },
  {
   "cell_type": "code",
   "execution_count": 5,
   "metadata": {},
   "outputs": [],
   "source": [
    "dat = dat.drop(index = dat[dat['responses'] == 'Read'].index)\n",
    "dat['reading_time'] = dat['reading_time'].astype('float')\n",
    "dat['responses'] = dat['responses'].astype('float')"
   ]
  },
  {
   "cell_type": "code",
   "execution_count": 6,
   "metadata": {},
   "outputs": [
    {
     "data": {
      "text/plain": [
       "url              object\n",
       "title            object\n",
       "subtitle         object\n",
       "image            object\n",
       "claps             int64\n",
       "responses       float64\n",
       "reading_time    float64\n",
       "publication      object\n",
       "date             object\n",
       "dtype: object"
      ]
     },
     "execution_count": 6,
     "metadata": {},
     "output_type": "execute_result"
    }
   ],
   "source": [
    "dat.dtypes"
   ]
  },
  {
   "cell_type": "markdown",
   "metadata": {},
   "source": [
    "---\n",
    "### Descriptive Statistics"
   ]
  },
  {
   "cell_type": "code",
   "execution_count": 7,
   "metadata": {},
   "outputs": [
    {
     "name": "stdout",
     "output_type": "stream",
     "text": [
      "url :  0\n",
      "title :  0\n",
      "subtitle :  3027\n",
      "image :  146\n",
      "claps :  0\n",
      "responses :  0\n",
      "reading_time :  0\n",
      "publication :  0\n",
      "date :  0\n"
     ]
    }
   ],
   "source": [
    "# Checking for Missing Values\n",
    "for column in range(len(dat.columns)):\n",
    "    print(dat.columns[column], ': ',len(dat[dat.iloc[:,column].isnull()]))"
   ]
  },
  {
   "cell_type": "code",
   "execution_count": 8,
   "metadata": {},
   "outputs": [
    {
     "data": {
      "text/plain": [
       "array([ 8.,  9.,  5.,  4., 12., 18.,  6., 21., 14., 10.,  3., 19.,  7.,\n",
       "       16.,  2., 22., 11., 13., 20., 15.,  1., 40., 32., 17., 27., 31.,\n",
       "       26.,  0., 24., 25., 23., 33., 55., 36.])"
      ]
     },
     "execution_count": 8,
     "metadata": {},
     "output_type": "execute_result"
    }
   ],
   "source": [
    "dat.iloc[:,6].unique()"
   ]
  },
  {
   "cell_type": "code",
   "execution_count": 9,
   "metadata": {},
   "outputs": [
    {
     "data": {
      "text/html": [
       "<div>\n",
       "<style scoped>\n",
       "    .dataframe tbody tr th:only-of-type {\n",
       "        vertical-align: middle;\n",
       "    }\n",
       "\n",
       "    .dataframe tbody tr th {\n",
       "        vertical-align: top;\n",
       "    }\n",
       "\n",
       "    .dataframe thead tr th {\n",
       "        text-align: left;\n",
       "    }\n",
       "\n",
       "    .dataframe thead tr:last-of-type th {\n",
       "        text-align: right;\n",
       "    }\n",
       "</style>\n",
       "<table border=\"1\" class=\"dataframe\">\n",
       "  <thead>\n",
       "    <tr>\n",
       "      <th></th>\n",
       "      <th colspan=\"2\" halign=\"left\">responses</th>\n",
       "      <th colspan=\"3\" halign=\"left\">reading_time</th>\n",
       "    </tr>\n",
       "    <tr>\n",
       "      <th></th>\n",
       "      <th>count</th>\n",
       "      <th>mean</th>\n",
       "      <th>count</th>\n",
       "      <th>mean</th>\n",
       "      <th>sum</th>\n",
       "    </tr>\n",
       "    <tr>\n",
       "      <th>publication</th>\n",
       "      <th></th>\n",
       "      <th></th>\n",
       "      <th></th>\n",
       "      <th></th>\n",
       "      <th></th>\n",
       "    </tr>\n",
       "  </thead>\n",
       "  <tbody>\n",
       "    <tr>\n",
       "      <th>Better Humans</th>\n",
       "      <td>28</td>\n",
       "      <td>8.535714</td>\n",
       "      <td>28</td>\n",
       "      <td>13.357143</td>\n",
       "      <td>374.0</td>\n",
       "    </tr>\n",
       "    <tr>\n",
       "      <th>Better Marketing</th>\n",
       "      <td>242</td>\n",
       "      <td>4.619835</td>\n",
       "      <td>242</td>\n",
       "      <td>6.409091</td>\n",
       "      <td>1551.0</td>\n",
       "    </tr>\n",
       "    <tr>\n",
       "      <th>Data Driven Investor</th>\n",
       "      <td>777</td>\n",
       "      <td>0.373230</td>\n",
       "      <td>777</td>\n",
       "      <td>5.222651</td>\n",
       "      <td>4058.0</td>\n",
       "    </tr>\n",
       "    <tr>\n",
       "      <th>The Startup</th>\n",
       "      <td>3041</td>\n",
       "      <td>1.791845</td>\n",
       "      <td>3041</td>\n",
       "      <td>5.906281</td>\n",
       "      <td>17961.0</td>\n",
       "    </tr>\n",
       "    <tr>\n",
       "      <th>The Writing Cooperative</th>\n",
       "      <td>403</td>\n",
       "      <td>3.163772</td>\n",
       "      <td>403</td>\n",
       "      <td>4.965261</td>\n",
       "      <td>2001.0</td>\n",
       "    </tr>\n",
       "    <tr>\n",
       "      <th>Towards Data Science</th>\n",
       "      <td>1461</td>\n",
       "      <td>1.732375</td>\n",
       "      <td>1461</td>\n",
       "      <td>7.276523</td>\n",
       "      <td>10631.0</td>\n",
       "    </tr>\n",
       "    <tr>\n",
       "      <th>UX Collective</th>\n",
       "      <td>554</td>\n",
       "      <td>1.471119</td>\n",
       "      <td>554</td>\n",
       "      <td>6.032491</td>\n",
       "      <td>3342.0</td>\n",
       "    </tr>\n",
       "  </tbody>\n",
       "</table>\n",
       "</div>"
      ],
      "text/plain": [
       "                        responses           reading_time                    \n",
       "                            count      mean        count       mean      sum\n",
       "publication                                                                 \n",
       "Better Humans                  28  8.535714           28  13.357143    374.0\n",
       "Better Marketing              242  4.619835          242   6.409091   1551.0\n",
       "Data Driven Investor          777  0.373230          777   5.222651   4058.0\n",
       "The Startup                  3041  1.791845         3041   5.906281  17961.0\n",
       "The Writing Cooperative       403  3.163772          403   4.965261   2001.0\n",
       "Towards Data Science         1461  1.732375         1461   7.276523  10631.0\n",
       "UX Collective                 554  1.471119          554   6.032491   3342.0"
      ]
     },
     "execution_count": 9,
     "metadata": {},
     "output_type": "execute_result"
    }
   ],
   "source": [
    "# looking into article count provided by differences sub-publication of Medium\n",
    "dat.groupby('publication').agg({'responses': ['count','mean'],\n",
    "                                'reading_time':['count','mean','sum']})"
   ]
  },
  {
   "cell_type": "code",
   "execution_count": 42,
   "metadata": {},
   "outputs": [
    {
     "data": {
      "text/html": [
       "<div>\n",
       "<style scoped>\n",
       "    .dataframe tbody tr th:only-of-type {\n",
       "        vertical-align: middle;\n",
       "    }\n",
       "\n",
       "    .dataframe tbody tr th {\n",
       "        vertical-align: top;\n",
       "    }\n",
       "\n",
       "    .dataframe thead th {\n",
       "        text-align: right;\n",
       "    }\n",
       "</style>\n",
       "<table border=\"1\" class=\"dataframe\">\n",
       "  <thead>\n",
       "    <tr style=\"text-align: right;\">\n",
       "      <th></th>\n",
       "      <th>reading_time</th>\n",
       "    </tr>\n",
       "    <tr>\n",
       "      <th>publication</th>\n",
       "      <th></th>\n",
       "    </tr>\n",
       "  </thead>\n",
       "  <tbody>\n",
       "    <tr>\n",
       "      <th>Better Humans</th>\n",
       "      <td>13.357143</td>\n",
       "    </tr>\n",
       "    <tr>\n",
       "      <th>Better Marketing</th>\n",
       "      <td>6.409091</td>\n",
       "    </tr>\n",
       "    <tr>\n",
       "      <th>Data Driven Investor</th>\n",
       "      <td>5.222651</td>\n",
       "    </tr>\n",
       "    <tr>\n",
       "      <th>The Startup</th>\n",
       "      <td>5.906281</td>\n",
       "    </tr>\n",
       "    <tr>\n",
       "      <th>The Writing Cooperative</th>\n",
       "      <td>4.965261</td>\n",
       "    </tr>\n",
       "    <tr>\n",
       "      <th>Towards Data Science</th>\n",
       "      <td>7.276523</td>\n",
       "    </tr>\n",
       "    <tr>\n",
       "      <th>UX Collective</th>\n",
       "      <td>6.032491</td>\n",
       "    </tr>\n",
       "  </tbody>\n",
       "</table>\n",
       "</div>"
      ],
      "text/plain": [
       "                         reading_time\n",
       "publication                          \n",
       "Better Humans               13.357143\n",
       "Better Marketing             6.409091\n",
       "Data Driven Investor         5.222651\n",
       "The Startup                  5.906281\n",
       "The Writing Cooperative      4.965261\n",
       "Towards Data Science         7.276523\n",
       "UX Collective                6.032491"
      ]
     },
     "execution_count": 42,
     "metadata": {},
     "output_type": "execute_result"
    }
   ],
   "source": [
    "reading_mean"
   ]
  },
  {
   "cell_type": "code",
   "execution_count": 14,
   "metadata": {},
   "outputs": [
    {
     "data": {
      "image/png": "[encoded data removed]",
      "text/plain": [
       "<Figure size 640x480 with 1 Axes>"
      ]
     },
     "metadata": {},
     "output_type": "display_data"
    }
   ],
   "source": [
    "size = dat.groupby('publication').size()\n",
    "size_data  = pd.DataFrame(size,columns=['Frequency']).reset_index()\n",
    "size_data['Frequency'] = size_data['Frequency'].astype('float')\n",
    "size_data['proportion'] = size_data['Frequency'] / (size_data['Frequency'].sum()) * 100\n",
    "proportion = size_data['proportion'].tolist()\n",
    "#Plotting\n",
    "objects = size_data['publication'].tolist()\n",
    "y_pos = np.arange(len(objects))\n",
    "y = size_data['Frequency'].tolist()\n",
    "fig, ax1 = plt.subplots(1,1)\n",
    "ax1.barh(y_pos, y, align='center', alpha=0.5)\n",
    "ax1.set_yticks(y_pos)\n",
    "ax1.set_yticklabels(objects)\n",
    "ax1.set_xlabel('Frequency')\n",
    "ax1.set_title('Frequency and Proportion of Various Publication Under Medium',x = +0.4)\n",
    "\n",
    "ax1.spines['right'].set_visible(False)\n",
    "ax1.spines['top'].set_visible(False)\n",
    "\n",
    "\"{:.2%}\".format(0.25)\n",
    "\n",
    "for i, v in enumerate(proportion):\n",
    "    ax1.text(y[i] +5, y_pos[i] - 0.1, str(\"{:.2%}\".format(v/100)), color='black')\n",
    "plt.show()"
   ]
  },
  {
   "cell_type": "code",
   "execution_count": 11,
   "metadata": {},
   "outputs": [
    {
     "data": {
      "text/html": [
       "<div>\n",
       "<style scoped>\n",
       "    .dataframe tbody tr th:only-of-type {\n",
       "        vertical-align: middle;\n",
       "    }\n",
       "\n",
       "    .dataframe tbody tr th {\n",
       "        vertical-align: top;\n",
       "    }\n",
       "\n",
       "    .dataframe thead th {\n",
       "        text-align: right;\n",
       "    }\n",
       "</style>\n",
       "<table border=\"1\" class=\"dataframe\">\n",
       "  <thead>\n",
       "    <tr style=\"text-align: right;\">\n",
       "      <th></th>\n",
       "      <th>reading_time</th>\n",
       "    </tr>\n",
       "    <tr>\n",
       "      <th>publication</th>\n",
       "      <th></th>\n",
       "    </tr>\n",
       "  </thead>\n",
       "  <tbody>\n",
       "    <tr>\n",
       "      <th>Better Humans</th>\n",
       "      <td>374.0</td>\n",
       "    </tr>\n",
       "    <tr>\n",
       "      <th>Better Marketing</th>\n",
       "      <td>1551.0</td>\n",
       "    </tr>\n",
       "    <tr>\n",
       "      <th>Data Driven Investor</th>\n",
       "      <td>4058.0</td>\n",
       "    </tr>\n",
       "    <tr>\n",
       "      <th>The Startup</th>\n",
       "      <td>17961.0</td>\n",
       "    </tr>\n",
       "    <tr>\n",
       "      <th>The Writing Cooperative</th>\n",
       "      <td>2001.0</td>\n",
       "    </tr>\n",
       "    <tr>\n",
       "      <th>Towards Data Science</th>\n",
       "      <td>10631.0</td>\n",
       "    </tr>\n",
       "    <tr>\n",
       "      <th>UX Collective</th>\n",
       "      <td>3342.0</td>\n",
       "    </tr>\n",
       "  </tbody>\n",
       "</table>\n",
       "</div>"
      ],
      "text/plain": [
       "                         reading_time\n",
       "publication                          \n",
       "Better Humans                   374.0\n",
       "Better Marketing               1551.0\n",
       "Data Driven Investor           4058.0\n",
       "The Startup                   17961.0\n",
       "The Writing Cooperative        2001.0\n",
       "Towards Data Science          10631.0\n",
       "UX Collective                  3342.0"
      ]
     },
     "execution_count": 11,
     "metadata": {},
     "output_type": "execute_result"
    }
   ],
   "source": [
    "reading_mean = dat.groupby('publication').agg({'reading_time':'mean'})\n",
    "reading_sum = dat.groupby('publication').agg({'reading_time':'sum'})\n"
   ]
  },
  {
   "cell_type": "code",
   "execution_count": 77,
   "metadata": {},
   "outputs": [
    {
     "data": {
      "image/png": "[encoded data removed]",
      "text/plain": [
       "<Figure size 640x480 with 2 Axes>"
      ]
     },
     "metadata": {},
     "output_type": "display_data"
    }
   ],
   "source": [
    "#plt 1\n",
    "size = reading_mean\n",
    "objects = size_data['publication'].tolist()\n",
    "y_pos = np.arange(len(objects))\n",
    "y = list(size['reading_time'])\n",
    "fig, (ax1,ax2) = plt.subplots(2,1)\n",
    "ax1.barh(y_pos,y,align='center', color = 'bisque')\n",
    "_ = ax1.set_yticks(y_pos)\n",
    "_ = ax1.set_yticklabels(objects)\n",
    "_ = ax1.set_xlabel('Average in minutes')\n",
    "_ = ax1.set_title('Average Time Spent in each Article by Publication',x = +0.4)\n",
    "\n",
    "#plt 2\n",
    "size = reading_sum\n",
    "objects = size_data['publication'].tolist()\n",
    "y_pos = np.arange(len(objects))\n",
    "y = list(size['reading_time'])\n",
    "ax2.barh(y_pos,y,align='center', color = 'lightsteelblue')\n",
    "_ = ax2.set_yticks(y_pos)\n",
    "_ = ax2.set_yticklabels(objects)\n",
    "ax2.set_xlabel('Total in minutes')\n",
    "ax2.set_title('Total Time Spent in each Article by Publication',x = +0.4)\n",
    "fig.tight_layout()\n",
    "plt.show()"
   ]
  },
  {
   "cell_type": "markdown",
   "metadata": {},
   "source": [
    "### To do\n",
    "\n",
    "1. Use beautifulsoup to catch \"img alt = \"Image for post\"\" to count total image in an article\n",
    "2. Distinguish article that contains coding from those that don't. Requires a dictionary that contains most python library and codes.\n",
    "3. Exclude codings found in (2), perform text mining to identify hot topic for towarddatascience \n",
    "4. Exclude codings found in (2), perform sentiment analysis to identify writing style of hot articles"
   ]
  },
  {
   "cell_type": "code",
   "execution_count": null,
   "metadata": {},
   "outputs": [],
   "source": []
  }
 ],
 "metadata": {
  "kernelspec": {
   "display_name": "Python 3",
   "language": "python",
   "name": "python3"
  },
  "language_info": {
   "codemirror_mode": {
    "name": "ipython",
    "version": 3
   },
   "file_extension": ".py",
   "mimetype": "text/x-python",
   "name": "python",
   "nbconvert_exporter": "python",
   "pygments_lexer": "ipython3",
   "version": "3.8.3"
  }
 },
 "nbformat": 4,
 "nbformat_minor": 4
}
